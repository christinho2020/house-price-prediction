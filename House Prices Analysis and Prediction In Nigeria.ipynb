{
 "cells": [
  {
   "cell_type": "markdown",
   "id": "8b3589a5",
   "metadata": {},
   "source": [
    "## INTRODUCTION\n",
    "Exploring the Nigerian house dataset, in this notebook we will be exploring the dataset, cleaning it and finally building a model to predict the price of a house based on the features in the dataset.\n",
    "\n",
    "This datasets contains Houses listings in Nigeria and their prices based on Location and other parameters.\n",
    "\n",
    "Datashape (24326, 8)\n",
    "\n",
    "Parameters:\n",
    "\n",
    "bedrooms -> number of bedrooms in the houses\n",
    "\n",
    "bathrooms -> number of bathrooms in the houses\n",
    "\n",
    "toilets -> number of toilets\n",
    "\n",
    "parking_space\n",
    "\n",
    "title -> house type\n",
    "\n",
    "town -> town in which the house is located\n",
    "\n",
    "state -> state within Nigeria in which the house is located and finally\n",
    "\n",
    "price -> the target column."
   ]
  },
  {
   "cell_type": "code",
   "execution_count": 1,
   "id": "6f6a9c0f",
   "metadata": {},
   "outputs": [
    {
     "name": "stdout",
     "output_type": "stream",
     "text": [
      "Collecting XGBoost\n",
      "  Using cached xgboost-2.0.2-py3-none-win_amd64.whl (99.8 MB)\n",
      "Requirement already satisfied: numpy in c:\\users\\christinho\\anaconda3\\lib\\site-packages (from XGBoost) (1.22.4)\n",
      "Requirement already satisfied: scipy in c:\\users\\christinho\\anaconda3\\lib\\site-packages (from XGBoost) (1.6.2)\n",
      "Installing collected packages: XGBoost\n",
      "Successfully installed XGBoost-2.0.2\n",
      "Note: you may need to restart the kernel to use updated packages.\n"
     ]
    }
   ],
   "source": [
    "pip install XGBoost"
   ]
  },
  {
   "cell_type": "code",
   "execution_count": 7,
   "id": "3b798714",
   "metadata": {},
   "outputs": [],
   "source": [
    "import numpy as np\n",
    "import pandas as pd\n",
    "import matplotlib.pyplot as plt\n",
    "import seaborn as sns\n",
    "\n",
    "from sklearn.preprocessing import OneHotEncoder, StandardScaler\n",
    "from sklearn.linear_model import LinearRegression, Ridge, Lasso, ElasticNet\n",
    "from sklearn.ensemble import RandomForestRegressor, GradientBoostingRegressor\n",
    "from sklearn.tree import DecisionTreeRegressor\n",
    "from sklearn.neighbors import KNeighborsRegressor\n",
    "from sklearn.svm import SVR\n",
    "from sklearn.model_selection import train_test_split\n",
    "from sklearn.metrics import mean_squared_error, r2_score, accuracy_score\n",
    "from xgboost import XGBRegressor\n",
    "from sklearn.model_selection import GridSearchCV\n",
    "from sklearn.model_selection import RandomizedSearchCV\n",
    "from ipywidgets import interact, IntSlider\n",
    "import warnings\n",
    "\n",
    "warnings.filterwarnings(\"ignore\")"
   ]
  },
  {
   "cell_type": "markdown",
   "id": "dae886b3",
   "metadata": {},
   "source": [
    "### Importing the Dataset"
   ]
  },
  {
   "cell_type": "code",
   "execution_count": 5,
   "id": "674d13bb",
   "metadata": {},
   "outputs": [],
   "source": [
    "HousingPriceData = pd.read_csv(\"Nigeria_House_Dataset.csv\")"
   ]
  },
  {
   "cell_type": "code",
   "execution_count": 6,
   "id": "51174e7e",
   "metadata": {},
   "outputs": [
    {
     "data": {
      "text/html": [
       "<div>\n",
       "<style scoped>\n",
       "    .dataframe tbody tr th:only-of-type {\n",
       "        vertical-align: middle;\n",
       "    }\n",
       "\n",
       "    .dataframe tbody tr th {\n",
       "        vertical-align: top;\n",
       "    }\n",
       "\n",
       "    .dataframe thead th {\n",
       "        text-align: right;\n",
       "    }\n",
       "</style>\n",
       "<table border=\"1\" class=\"dataframe\">\n",
       "  <thead>\n",
       "    <tr style=\"text-align: right;\">\n",
       "      <th></th>\n",
       "      <th>bedrooms</th>\n",
       "      <th>bathrooms</th>\n",
       "      <th>toilets</th>\n",
       "      <th>parking_space</th>\n",
       "      <th>title</th>\n",
       "      <th>town</th>\n",
       "      <th>state</th>\n",
       "      <th>price</th>\n",
       "    </tr>\n",
       "  </thead>\n",
       "  <tbody>\n",
       "    <tr>\n",
       "      <th>0</th>\n",
       "      <td>6</td>\n",
       "      <td>5</td>\n",
       "      <td>5</td>\n",
       "      <td>4</td>\n",
       "      <td>Detached Duplex</td>\n",
       "      <td>Mabushi</td>\n",
       "      <td>Abuja</td>\n",
       "      <td>450000000.0</td>\n",
       "    </tr>\n",
       "    <tr>\n",
       "      <th>1</th>\n",
       "      <td>4</td>\n",
       "      <td>5</td>\n",
       "      <td>5</td>\n",
       "      <td>4</td>\n",
       "      <td>Terraced Duplexes</td>\n",
       "      <td>Katampe</td>\n",
       "      <td>Abuja</td>\n",
       "      <td>800000000.0</td>\n",
       "    </tr>\n",
       "    <tr>\n",
       "      <th>2</th>\n",
       "      <td>4</td>\n",
       "      <td>5</td>\n",
       "      <td>5</td>\n",
       "      <td>4</td>\n",
       "      <td>Detached Duplex</td>\n",
       "      <td>Lekki</td>\n",
       "      <td>Lagos</td>\n",
       "      <td>120000000.0</td>\n",
       "    </tr>\n",
       "    <tr>\n",
       "      <th>3</th>\n",
       "      <td>4</td>\n",
       "      <td>4</td>\n",
       "      <td>5</td>\n",
       "      <td>6</td>\n",
       "      <td>Detached Duplex</td>\n",
       "      <td>Ajah</td>\n",
       "      <td>Lagos</td>\n",
       "      <td>40000000.0</td>\n",
       "    </tr>\n",
       "    <tr>\n",
       "      <th>4</th>\n",
       "      <td>4</td>\n",
       "      <td>4</td>\n",
       "      <td>5</td>\n",
       "      <td>2</td>\n",
       "      <td>Semi Detached Duplex</td>\n",
       "      <td>Lekki</td>\n",
       "      <td>Lagos</td>\n",
       "      <td>75000000.0</td>\n",
       "    </tr>\n",
       "    <tr>\n",
       "      <th>...</th>\n",
       "      <td>...</td>\n",
       "      <td>...</td>\n",
       "      <td>...</td>\n",
       "      <td>...</td>\n",
       "      <td>...</td>\n",
       "      <td>...</td>\n",
       "      <td>...</td>\n",
       "      <td>...</td>\n",
       "    </tr>\n",
       "    <tr>\n",
       "      <th>24321</th>\n",
       "      <td>2</td>\n",
       "      <td>2</td>\n",
       "      <td>2</td>\n",
       "      <td>4</td>\n",
       "      <td>Block of Flats</td>\n",
       "      <td>Kabusa</td>\n",
       "      <td>Abuja</td>\n",
       "      <td>15000000.0</td>\n",
       "    </tr>\n",
       "    <tr>\n",
       "      <th>24322</th>\n",
       "      <td>4</td>\n",
       "      <td>5</td>\n",
       "      <td>5</td>\n",
       "      <td>4</td>\n",
       "      <td>Block of Flats</td>\n",
       "      <td>Ado-Odo/Ota</td>\n",
       "      <td>Ogun</td>\n",
       "      <td>25000000.0</td>\n",
       "    </tr>\n",
       "    <tr>\n",
       "      <th>24323</th>\n",
       "      <td>4</td>\n",
       "      <td>5</td>\n",
       "      <td>5</td>\n",
       "      <td>4</td>\n",
       "      <td>Detached Duplex</td>\n",
       "      <td>Lekki</td>\n",
       "      <td>Lagos</td>\n",
       "      <td>68000000.0</td>\n",
       "    </tr>\n",
       "    <tr>\n",
       "      <th>24324</th>\n",
       "      <td>3</td>\n",
       "      <td>4</td>\n",
       "      <td>4</td>\n",
       "      <td>3</td>\n",
       "      <td>Block of Flats</td>\n",
       "      <td>Victoria Island (VI)</td>\n",
       "      <td>Lagos</td>\n",
       "      <td>78000000.0</td>\n",
       "    </tr>\n",
       "    <tr>\n",
       "      <th>24325</th>\n",
       "      <td>4</td>\n",
       "      <td>5</td>\n",
       "      <td>5</td>\n",
       "      <td>4</td>\n",
       "      <td>Detached Duplex</td>\n",
       "      <td>Lekki</td>\n",
       "      <td>Lagos</td>\n",
       "      <td>65000000.0</td>\n",
       "    </tr>\n",
       "  </tbody>\n",
       "</table>\n",
       "<p>24326 rows × 8 columns</p>\n",
       "</div>"
      ],
      "text/plain": [
       "       bedrooms  bathrooms  toilets  parking_space                 title  \\\n",
       "0             6          5        5              4       Detached Duplex   \n",
       "1             4          5        5              4     Terraced Duplexes   \n",
       "2             4          5        5              4       Detached Duplex   \n",
       "3             4          4        5              6       Detached Duplex   \n",
       "4             4          4        5              2  Semi Detached Duplex   \n",
       "...         ...        ...      ...            ...                   ...   \n",
       "24321         2          2        2              4        Block of Flats   \n",
       "24322         4          5        5              4        Block of Flats   \n",
       "24323         4          5        5              4       Detached Duplex   \n",
       "24324         3          4        4              3        Block of Flats   \n",
       "24325         4          5        5              4       Detached Duplex   \n",
       "\n",
       "                       town  state        price  \n",
       "0                   Mabushi  Abuja  450000000.0  \n",
       "1                   Katampe  Abuja  800000000.0  \n",
       "2                     Lekki  Lagos  120000000.0  \n",
       "3                      Ajah  Lagos   40000000.0  \n",
       "4                     Lekki  Lagos   75000000.0  \n",
       "...                     ...    ...          ...  \n",
       "24321                Kabusa  Abuja   15000000.0  \n",
       "24322           Ado-Odo/Ota   Ogun   25000000.0  \n",
       "24323                 Lekki  Lagos   68000000.0  \n",
       "24324  Victoria Island (VI)  Lagos   78000000.0  \n",
       "24325                 Lekki  Lagos   65000000.0  \n",
       "\n",
       "[24326 rows x 8 columns]"
      ]
     },
     "execution_count": 6,
     "metadata": {},
     "output_type": "execute_result"
    }
   ],
   "source": [
    "HousingPriceData"
   ]
  },
  {
   "cell_type": "code",
   "execution_count": 8,
   "id": "6f895dd6",
   "metadata": {},
   "outputs": [
    {
     "name": "stdout",
     "output_type": "stream",
     "text": [
      "<class 'pandas.core.frame.DataFrame'>\n",
      "RangeIndex: 24326 entries, 0 to 24325\n",
      "Data columns (total 8 columns):\n",
      " #   Column         Non-Null Count  Dtype  \n",
      "---  ------         --------------  -----  \n",
      " 0   bedrooms       24326 non-null  int64  \n",
      " 1   bathrooms      24326 non-null  int64  \n",
      " 2   toilets        24326 non-null  int64  \n",
      " 3   parking_space  24326 non-null  int64  \n",
      " 4   title          24326 non-null  object \n",
      " 5   town           24326 non-null  object \n",
      " 6   state          24326 non-null  object \n",
      " 7   price          24326 non-null  float64\n",
      "dtypes: float64(1), int64(4), object(3)\n",
      "memory usage: 1.5+ MB\n"
     ]
    }
   ],
   "source": [
    "HousingPriceData.info()"
   ]
  },
  {
   "cell_type": "markdown",
   "id": "8ac24b02",
   "metadata": {},
   "source": [
    "### Exploratory Data Analysis"
   ]
  },
  {
   "cell_type": "code",
   "execution_count": 17,
   "id": "048ac9f8",
   "metadata": {},
   "outputs": [
    {
     "data": {
      "text/plain": [
       "array(['Abuja', 'Lagos', 'Edo', 'Ogun', 'Oyo', 'Imo', 'Anambara',\n",
       "       'Rivers', 'Enugu', 'Kaduna', 'Kwara', 'Nasarawa', 'Abia', 'Delta',\n",
       "       'Akwa Ibom', 'Osun', 'Ekiti', 'Cross River', 'Kogi', 'Plateau',\n",
       "       'Kano', 'Katsina', 'Bayelsa', 'Borno', 'Niger'], dtype=object)"
      ]
     },
     "execution_count": 17,
     "metadata": {},
     "output_type": "execute_result"
    }
   ],
   "source": [
    "HousingPriceData['state'].unique()"
   ]
  },
  {
   "cell_type": "code",
   "execution_count": 21,
   "id": "c1e274ab",
   "metadata": {},
   "outputs": [
    {
     "name": "stdout",
     "output_type": "stream",
     "text": [
      "The number of states in the dataset is 25\n"
     ]
    }
   ],
   "source": [
    "Number_of_States = len(HousingPriceData['state'].unique())\n",
    "\n",
    "print(\"The number of states in the dataset is\", Number_of_States)"
   ]
  },
  {
   "cell_type": "code",
   "execution_count": 12,
   "id": "8750c474",
   "metadata": {},
   "outputs": [
    {
     "data": {
      "text/plain": [
       "<AxesSubplot:xlabel='state'>"
      ]
     },
     "execution_count": 12,
     "metadata": {},
     "output_type": "execute_result"
    },
    {
     "data": {
      "image/png": "[encoded data removed]",
      "text/plain": [
       "<Figure size 432x288 with 1 Axes>"
      ]
     },
     "metadata": {
      "needs_background": "light"
     },
     "output_type": "display_data"
    }
   ],
   "source": [
    "HousingPriceData.groupby('state')['price'].mean().sort_values(ascending=False).plot(kind='bar')"
   ]
  },
  {
   "cell_type": "markdown",
   "id": "2d2c3aff",
   "metadata": {},
   "source": [
    "Lagos seems to be off the league of other states and this information may be because of possible outliers in the data. Lets see more confirmation"
   ]
  },
  {
   "cell_type": "code",
   "execution_count": 24,
   "id": "18304bd3",
   "metadata": {},
   "outputs": [
    {
     "data": {
      "text/plain": [
       "<AxesSubplot:xlabel='town'>"
      ]
     },
     "execution_count": 24,
     "metadata": {},
     "output_type": "execute_result"
    },
    {
     "data": {
      "image/png": "[encoded data removed]",
      "text/plain": [
       "<Figure size 432x288 with 1 Axes>"
      ]
     },
     "metadata": {
      "needs_background": "light"
     },
     "output_type": "display_data"
    }
   ],
   "source": [
    "HousingPriceData.groupby('town')['price'].mean().sort_values(ascending=False).head(20).plot(kind='bar')"
   ]
  },
  {
   "cell_type": "code",
   "execution_count": 26,
   "id": "8384674e",
   "metadata": {},
   "outputs": [
    {
     "name": "stdout",
     "output_type": "stream",
     "text": [
      "bedrooms                         9\n",
      "bathrooms                        9\n",
      "toilets                          9\n",
      "parking_space                    9\n",
      "title            Terraced Duplexes\n",
      "town                         Ikoyi\n",
      "state                        Lagos\n",
      "price              1800000000000.0\n",
      "dtype: object\n",
      "bedrooms                         7\n",
      "bathrooms                        8\n",
      "toilets                          8\n",
      "parking_space                    8\n",
      "title            Terraced Bungalow\n",
      "town                  Ifako-Ijaiye\n",
      "state                        Lagos\n",
      "price                55000000000.0\n",
      "dtype: object\n",
      "bedrooms                         9\n",
      "bathrooms                        9\n",
      "toilets                          9\n",
      "parking_space                    9\n",
      "title            Terraced Duplexes\n",
      "town                         Ikeja\n",
      "state                        Lagos\n",
      "price                 1440000000.0\n",
      "dtype: object\n"
     ]
    }
   ],
   "source": [
    "# Detecting suspected outlier\n",
    "print(HousingPriceData[HousingPriceData[\"town\"]==\"Ikoyi\"].max())\n",
    "print(HousingPriceData[HousingPriceData[\"town\"]==\"Ifako-Ijaiye\"].max())\n",
    "print(HousingPriceData[HousingPriceData[\"town\"]==\"Ikeja\"].max())"
   ]
  },
  {
   "cell_type": "code",
   "execution_count": 28,
   "id": "c5baa4ab",
   "metadata": {},
   "outputs": [
    {
     "data": {
      "text/html": [
       "<div>\n",
       "<style scoped>\n",
       "    .dataframe tbody tr th:only-of-type {\n",
       "        vertical-align: middle;\n",
       "    }\n",
       "\n",
       "    .dataframe tbody tr th {\n",
       "        vertical-align: top;\n",
       "    }\n",
       "\n",
       "    .dataframe thead th {\n",
       "        text-align: right;\n",
       "    }\n",
       "</style>\n",
       "<table border=\"1\" class=\"dataframe\">\n",
       "  <thead>\n",
       "    <tr style=\"text-align: right;\">\n",
       "      <th></th>\n",
       "      <th>bedrooms</th>\n",
       "      <th>bathrooms</th>\n",
       "      <th>toilets</th>\n",
       "      <th>parking_space</th>\n",
       "      <th>title</th>\n",
       "      <th>town</th>\n",
       "      <th>state</th>\n",
       "      <th>price</th>\n",
       "    </tr>\n",
       "  </thead>\n",
       "  <tbody>\n",
       "    <tr>\n",
       "      <th>2</th>\n",
       "      <td>4</td>\n",
       "      <td>5</td>\n",
       "      <td>5</td>\n",
       "      <td>4</td>\n",
       "      <td>Detached Duplex</td>\n",
       "      <td>Lekki</td>\n",
       "      <td>Lagos</td>\n",
       "      <td>120000000.0</td>\n",
       "    </tr>\n",
       "    <tr>\n",
       "      <th>3</th>\n",
       "      <td>4</td>\n",
       "      <td>4</td>\n",
       "      <td>5</td>\n",
       "      <td>6</td>\n",
       "      <td>Detached Duplex</td>\n",
       "      <td>Ajah</td>\n",
       "      <td>Lagos</td>\n",
       "      <td>40000000.0</td>\n",
       "    </tr>\n",
       "    <tr>\n",
       "      <th>4</th>\n",
       "      <td>4</td>\n",
       "      <td>4</td>\n",
       "      <td>5</td>\n",
       "      <td>2</td>\n",
       "      <td>Semi Detached Duplex</td>\n",
       "      <td>Lekki</td>\n",
       "      <td>Lagos</td>\n",
       "      <td>75000000.0</td>\n",
       "    </tr>\n",
       "    <tr>\n",
       "      <th>6</th>\n",
       "      <td>4</td>\n",
       "      <td>5</td>\n",
       "      <td>5</td>\n",
       "      <td>4</td>\n",
       "      <td>Detached Duplex</td>\n",
       "      <td>Lekki</td>\n",
       "      <td>Lagos</td>\n",
       "      <td>65000000.0</td>\n",
       "    </tr>\n",
       "    <tr>\n",
       "      <th>8</th>\n",
       "      <td>1</td>\n",
       "      <td>1</td>\n",
       "      <td>1</td>\n",
       "      <td>1</td>\n",
       "      <td>Detached Duplex</td>\n",
       "      <td>Lekki</td>\n",
       "      <td>Lagos</td>\n",
       "      <td>200000000.0</td>\n",
       "    </tr>\n",
       "    <tr>\n",
       "      <th>...</th>\n",
       "      <td>...</td>\n",
       "      <td>...</td>\n",
       "      <td>...</td>\n",
       "      <td>...</td>\n",
       "      <td>...</td>\n",
       "      <td>...</td>\n",
       "      <td>...</td>\n",
       "      <td>...</td>\n",
       "    </tr>\n",
       "    <tr>\n",
       "      <th>24318</th>\n",
       "      <td>4</td>\n",
       "      <td>5</td>\n",
       "      <td>5</td>\n",
       "      <td>4</td>\n",
       "      <td>Semi Detached Duplex</td>\n",
       "      <td>Lekki</td>\n",
       "      <td>Lagos</td>\n",
       "      <td>110000000.0</td>\n",
       "    </tr>\n",
       "    <tr>\n",
       "      <th>24320</th>\n",
       "      <td>3</td>\n",
       "      <td>4</td>\n",
       "      <td>4</td>\n",
       "      <td>5</td>\n",
       "      <td>Detached Duplex</td>\n",
       "      <td>Lekki</td>\n",
       "      <td>Lagos</td>\n",
       "      <td>80000000.0</td>\n",
       "    </tr>\n",
       "    <tr>\n",
       "      <th>24323</th>\n",
       "      <td>4</td>\n",
       "      <td>5</td>\n",
       "      <td>5</td>\n",
       "      <td>4</td>\n",
       "      <td>Detached Duplex</td>\n",
       "      <td>Lekki</td>\n",
       "      <td>Lagos</td>\n",
       "      <td>68000000.0</td>\n",
       "    </tr>\n",
       "    <tr>\n",
       "      <th>24324</th>\n",
       "      <td>3</td>\n",
       "      <td>4</td>\n",
       "      <td>4</td>\n",
       "      <td>3</td>\n",
       "      <td>Block of Flats</td>\n",
       "      <td>Victoria Island (VI)</td>\n",
       "      <td>Lagos</td>\n",
       "      <td>78000000.0</td>\n",
       "    </tr>\n",
       "    <tr>\n",
       "      <th>24325</th>\n",
       "      <td>4</td>\n",
       "      <td>5</td>\n",
       "      <td>5</td>\n",
       "      <td>4</td>\n",
       "      <td>Detached Duplex</td>\n",
       "      <td>Lekki</td>\n",
       "      <td>Lagos</td>\n",
       "      <td>65000000.0</td>\n",
       "    </tr>\n",
       "  </tbody>\n",
       "</table>\n",
       "<p>17491 rows × 8 columns</p>\n",
       "</div>"
      ],
      "text/plain": [
       "       bedrooms  bathrooms  toilets  parking_space                 title  \\\n",
       "2             4          5        5              4       Detached Duplex   \n",
       "3             4          4        5              6       Detached Duplex   \n",
       "4             4          4        5              2  Semi Detached Duplex   \n",
       "6             4          5        5              4       Detached Duplex   \n",
       "8             1          1        1              1       Detached Duplex   \n",
       "...         ...        ...      ...            ...                   ...   \n",
       "24318         4          5        5              4  Semi Detached Duplex   \n",
       "24320         3          4        4              5       Detached Duplex   \n",
       "24323         4          5        5              4       Detached Duplex   \n",
       "24324         3          4        4              3        Block of Flats   \n",
       "24325         4          5        5              4       Detached Duplex   \n",
       "\n",
       "                       town  state        price  \n",
       "2                     Lekki  Lagos  120000000.0  \n",
       "3                      Ajah  Lagos   40000000.0  \n",
       "4                     Lekki  Lagos   75000000.0  \n",
       "6                     Lekki  Lagos   65000000.0  \n",
       "8                     Lekki  Lagos  200000000.0  \n",
       "...                     ...    ...          ...  \n",
       "24318                 Lekki  Lagos  110000000.0  \n",
       "24320                 Lekki  Lagos   80000000.0  \n",
       "24323                 Lekki  Lagos   68000000.0  \n",
       "24324  Victoria Island (VI)  Lagos   78000000.0  \n",
       "24325                 Lekki  Lagos   65000000.0  \n",
       "\n",
       "[17491 rows x 8 columns]"
      ]
     },
     "execution_count": 28,
     "metadata": {},
     "output_type": "execute_result"
    }
   ],
   "source": [
    "trimmed_data = q1, q9 = HousingPriceData[\"price\"].quantile([0.15,0.85])\n",
    "mask_data = HousingPriceData[\"price\"].between(q1,q9)\n",
    "trimmed_data = HousingPriceData[mask_data]\n",
    "trimmed_data"
   ]
  },
  {
   "cell_type": "markdown",
   "id": "8b3736b7",
   "metadata": {},
   "source": [
    "The code first calculates the 15th and 85th percentiles of the \"price\" column in the data frame. Then, it creates a mask to select only the data points that fall between these two percentiles. Finally, it filters the data frame using the mask and assigns the result to the variable trimmed_data.\n",
    "\n",
    "In other words, the code is trying to identify and remove outliers from the \"price\" column. Outliers are data points that are significantly different from the rest of the data. By removing outliers, we can get a more accurate picture of the overall distribution of the data."
   ]
  },
  {
   "cell_type": "code",
   "execution_count": 29,
   "id": "3a1d4644",
   "metadata": {},
   "outputs": [
    {
     "data": {
      "text/plain": [
       "array(['Lekki', 'Ajah', 'Oredo', 'Lokogoma District',\n",
       "       'Victoria Island (VI)', 'Katampe', 'Magodo', 'Kaura', 'Galadimawa',\n",
       "       'Gwarinpa', 'Yaba', 'Agege', 'Jahi', 'Orozo', 'Owerri North',\n",
       "       'Ikeja', 'Idu Industrial', 'Owerri Municipal', 'Isheri North',\n",
       "       'Utako', 'Guzape District', 'Port Harcourt', 'Isheri', 'Ibadan',\n",
       "       'Ikoyi', 'Life Camp', 'Dape', 'Ejigbo', 'Isolo', 'Gaduwa', 'Dakwo',\n",
       "       'Asokoro District', 'Chikun', 'Ojodu', 'Lugbe District', 'Wuye',\n",
       "       'Kubwa', 'Shomolu', 'Ogudu', 'Owerri West', 'Sango Ota',\n",
       "       'Surulere', 'Obio-Akpor', 'Enugu', 'Apo', 'Ibeju Lekki', 'Wuse 2',\n",
       "       'Mowe Town', 'Durumi', 'Simawa', 'Arepo', 'Mabushi', 'Alimosho',\n",
       "       'Maryland', 'Karsana', 'Wuse', 'Karmo', 'Ifo', 'Gbagada', 'Idimu',\n",
       "       'Maitama District', 'Gudu', 'Ikotun', 'Kukwaba', 'Mbora (Nbora)',\n",
       "       'Jabi', 'Ikorodu', 'Kaduna South', 'Asaba', 'Uyo', 'Kosofe',\n",
       "       'Ibafo', 'Ilupeju', 'Afijio', 'Ifako-Ijaiye', 'Ado-Ekiti', 'Ipaja',\n",
       "       'Oluyole', 'Osogbo', 'Ketu', 'Kado', 'Ojota', 'Garki',\n",
       "       'Mowe Ofada', 'Karu', 'Eleme', 'Ado-Odo/Ota', 'Ibadan South-West',\n",
       "       'Ojo', 'Oshodi', 'Aba', 'Amuwo Odofin', 'Dekina', 'Dakibiyu',\n",
       "       'Agbara-Igbesa', 'Ijaiye', 'Lagos Island', 'Ijoko',\n",
       "       'Diplomatic Zones', 'Ilorin West', 'Abeokuta South', 'Akure',\n",
       "       'Epe', 'Mushin', 'Magboro', 'Oke-Aro', 'Ikot Ekpene', 'Ayobo',\n",
       "       'Kurudu', 'Kabusa', 'Kafe', 'Egbe', 'Udu', 'Ibadan North-East',\n",
       "       'Gwagwalada', 'Warri', 'Duboyi', 'Central Business District',\n",
       "       'Guzamala', 'Ibadan North', 'Wumba', 'Ibadan North-West',\n",
       "       'Akinyele', 'Kaduna North', 'Mpape', 'Keffi', 'Badagry',\n",
       "       'Ilorin East', 'Umuahia', 'Ijesha', 'Apapa', 'Yenagoa', 'Okene',\n",
       "       'Egor', 'Ughelli South', 'Abeokuta North', 'Ewekoro', 'Kuje',\n",
       "       'Uhunmwonde', 'Ijebu Ode', 'Bwari', 'Abraka', 'Paikoro', 'Ido'],\n",
       "      dtype=object)"
      ]
     },
     "execution_count": 29,
     "metadata": {},
     "output_type": "execute_result"
    }
   ],
   "source": [
    "trimmed_data['town'].unique()"
   ]
  },
  {
   "cell_type": "code",
   "execution_count": 30,
   "id": "0bda447b",
   "metadata": {},
   "outputs": [
    {
     "name": "stdout",
     "output_type": "stream",
     "text": [
      "The number of towns in the trimmed dataset is 144\n"
     ]
    }
   ],
   "source": [
    "Number_of_towns = len(trimmed_data['town'].unique())\n",
    "\n",
    "print(\"The number of towns in the trimmed dataset is\", Number_of_towns)"
   ]
  },
  {
   "cell_type": "code",
   "execution_count": 31,
   "id": "cf52ab90",
   "metadata": {},
   "outputs": [
    {
     "data": {
      "text/plain": [
       "Lagos        13805\n",
       "Abuja         2462\n",
       "Rivers         339\n",
       "Oyo            229\n",
       "Imo            195\n",
       "Ogun           141\n",
       "Enugu           96\n",
       "Anambara        83\n",
       "Edo             51\n",
       "Delta           42\n",
       "Akwa Ibom       13\n",
       "Kaduna           8\n",
       "Abia             5\n",
       "Ekiti            5\n",
       "Nasarawa         4\n",
       "Kogi             4\n",
       "Osun             3\n",
       "Kwara            2\n",
       "Borno            2\n",
       "Bayelsa          1\n",
       "Niger            1\n",
       "Name: state, dtype: int64"
      ]
     },
     "execution_count": 31,
     "metadata": {},
     "output_type": "execute_result"
    }
   ],
   "source": [
    "records = trimmed_data['state'].value_counts()\n",
    "records"
   ]
  },
  {
   "cell_type": "markdown",
   "id": "bc304dab",
   "metadata": {},
   "source": [
    "At this point we need to remove states with less than 100 entries "
   ]
  },
  {
   "cell_type": "code",
   "execution_count": 32,
   "id": "7b79d902",
   "metadata": {},
   "outputs": [],
   "source": [
    "# remove the states with few entries\n",
    "trimmed_data = trimmed_data[~trimmed_data['state'].isin(records[records < 100].index)]"
   ]
  },
  {
   "cell_type": "code",
   "execution_count": 33,
   "id": "3cb2da64",
   "metadata": {},
   "outputs": [
    {
     "data": {
      "text/plain": [
       "Lagos     13805\n",
       "Abuja      2462\n",
       "Rivers      339\n",
       "Oyo         229\n",
       "Imo         195\n",
       "Ogun        141\n",
       "Name: state, dtype: int64"
      ]
     },
     "execution_count": 33,
     "metadata": {},
     "output_type": "execute_result"
    }
   ],
   "source": [
    "trimmed_data['state'].value_counts()"
   ]
  },
  {
   "cell_type": "code",
   "execution_count": 34,
   "id": "3d4d3439",
   "metadata": {},
   "outputs": [
    {
     "data": {
      "text/plain": [
       "<AxesSubplot:title={'center':'Most Expensive towns in nigeria'}, xlabel='town'>"
      ]
     },
     "execution_count": 34,
     "metadata": {},
     "output_type": "execute_result"
    },
    {
     "data": {
      "image/png": "[encoded data removed]",
      "text/plain": [
       "<Figure size 432x288 with 1 Axes>"
      ]
     },
     "metadata": {
      "needs_background": "light"
     },
     "output_type": "display_data"
    }
   ],
   "source": [
    "trimmed_data.groupby('town')['price'].mean().sort_values(ascending=False).head(20).plot(kind='bar', title=\"Most Expensive towns in nigeria\")"
   ]
  },
  {
   "cell_type": "markdown",
   "id": "8ad31208",
   "metadata": {},
   "source": [
    "This is a plot of top 20 most expensive towns in Nigeria"
   ]
  },
  {
   "cell_type": "code",
   "execution_count": 35,
   "id": "782a2e42",
   "metadata": {},
   "outputs": [],
   "source": [
    "trimmed_data['total_rooms'] = trimmed_data['bedrooms'] + trimmed_data['bathrooms'] + trimmed_data['toilets'] + trimmed_data['parking_space']"
   ]
  },
  {
   "cell_type": "code",
   "execution_count": 36,
   "id": "c420b2b4",
   "metadata": {},
   "outputs": [
    {
     "data": {
      "text/html": [
       "<div>\n",
       "<style scoped>\n",
       "    .dataframe tbody tr th:only-of-type {\n",
       "        vertical-align: middle;\n",
       "    }\n",
       "\n",
       "    .dataframe tbody tr th {\n",
       "        vertical-align: top;\n",
       "    }\n",
       "\n",
       "    .dataframe thead th {\n",
       "        text-align: right;\n",
       "    }\n",
       "</style>\n",
       "<table border=\"1\" class=\"dataframe\">\n",
       "  <thead>\n",
       "    <tr style=\"text-align: right;\">\n",
       "      <th></th>\n",
       "      <th>bedrooms</th>\n",
       "      <th>bathrooms</th>\n",
       "      <th>toilets</th>\n",
       "      <th>parking_space</th>\n",
       "      <th>title</th>\n",
       "      <th>town</th>\n",
       "      <th>state</th>\n",
       "      <th>price</th>\n",
       "      <th>total_rooms</th>\n",
       "    </tr>\n",
       "  </thead>\n",
       "  <tbody>\n",
       "    <tr>\n",
       "      <th>2</th>\n",
       "      <td>4</td>\n",
       "      <td>5</td>\n",
       "      <td>5</td>\n",
       "      <td>4</td>\n",
       "      <td>Detached Duplex</td>\n",
       "      <td>Lekki</td>\n",
       "      <td>Lagos</td>\n",
       "      <td>120000000.0</td>\n",
       "      <td>18</td>\n",
       "    </tr>\n",
       "    <tr>\n",
       "      <th>3</th>\n",
       "      <td>4</td>\n",
       "      <td>4</td>\n",
       "      <td>5</td>\n",
       "      <td>6</td>\n",
       "      <td>Detached Duplex</td>\n",
       "      <td>Ajah</td>\n",
       "      <td>Lagos</td>\n",
       "      <td>40000000.0</td>\n",
       "      <td>19</td>\n",
       "    </tr>\n",
       "    <tr>\n",
       "      <th>4</th>\n",
       "      <td>4</td>\n",
       "      <td>4</td>\n",
       "      <td>5</td>\n",
       "      <td>2</td>\n",
       "      <td>Semi Detached Duplex</td>\n",
       "      <td>Lekki</td>\n",
       "      <td>Lagos</td>\n",
       "      <td>75000000.0</td>\n",
       "      <td>15</td>\n",
       "    </tr>\n",
       "    <tr>\n",
       "      <th>6</th>\n",
       "      <td>4</td>\n",
       "      <td>5</td>\n",
       "      <td>5</td>\n",
       "      <td>4</td>\n",
       "      <td>Detached Duplex</td>\n",
       "      <td>Lekki</td>\n",
       "      <td>Lagos</td>\n",
       "      <td>65000000.0</td>\n",
       "      <td>18</td>\n",
       "    </tr>\n",
       "    <tr>\n",
       "      <th>8</th>\n",
       "      <td>1</td>\n",
       "      <td>1</td>\n",
       "      <td>1</td>\n",
       "      <td>1</td>\n",
       "      <td>Detached Duplex</td>\n",
       "      <td>Lekki</td>\n",
       "      <td>Lagos</td>\n",
       "      <td>200000000.0</td>\n",
       "      <td>4</td>\n",
       "    </tr>\n",
       "    <tr>\n",
       "      <th>...</th>\n",
       "      <td>...</td>\n",
       "      <td>...</td>\n",
       "      <td>...</td>\n",
       "      <td>...</td>\n",
       "      <td>...</td>\n",
       "      <td>...</td>\n",
       "      <td>...</td>\n",
       "      <td>...</td>\n",
       "      <td>...</td>\n",
       "    </tr>\n",
       "    <tr>\n",
       "      <th>24318</th>\n",
       "      <td>4</td>\n",
       "      <td>5</td>\n",
       "      <td>5</td>\n",
       "      <td>4</td>\n",
       "      <td>Semi Detached Duplex</td>\n",
       "      <td>Lekki</td>\n",
       "      <td>Lagos</td>\n",
       "      <td>110000000.0</td>\n",
       "      <td>18</td>\n",
       "    </tr>\n",
       "    <tr>\n",
       "      <th>24320</th>\n",
       "      <td>3</td>\n",
       "      <td>4</td>\n",
       "      <td>4</td>\n",
       "      <td>5</td>\n",
       "      <td>Detached Duplex</td>\n",
       "      <td>Lekki</td>\n",
       "      <td>Lagos</td>\n",
       "      <td>80000000.0</td>\n",
       "      <td>16</td>\n",
       "    </tr>\n",
       "    <tr>\n",
       "      <th>24323</th>\n",
       "      <td>4</td>\n",
       "      <td>5</td>\n",
       "      <td>5</td>\n",
       "      <td>4</td>\n",
       "      <td>Detached Duplex</td>\n",
       "      <td>Lekki</td>\n",
       "      <td>Lagos</td>\n",
       "      <td>68000000.0</td>\n",
       "      <td>18</td>\n",
       "    </tr>\n",
       "    <tr>\n",
       "      <th>24324</th>\n",
       "      <td>3</td>\n",
       "      <td>4</td>\n",
       "      <td>4</td>\n",
       "      <td>3</td>\n",
       "      <td>Block of Flats</td>\n",
       "      <td>Victoria Island (VI)</td>\n",
       "      <td>Lagos</td>\n",
       "      <td>78000000.0</td>\n",
       "      <td>14</td>\n",
       "    </tr>\n",
       "    <tr>\n",
       "      <th>24325</th>\n",
       "      <td>4</td>\n",
       "      <td>5</td>\n",
       "      <td>5</td>\n",
       "      <td>4</td>\n",
       "      <td>Detached Duplex</td>\n",
       "      <td>Lekki</td>\n",
       "      <td>Lagos</td>\n",
       "      <td>65000000.0</td>\n",
       "      <td>18</td>\n",
       "    </tr>\n",
       "  </tbody>\n",
       "</table>\n",
       "<p>17171 rows × 9 columns</p>\n",
       "</div>"
      ],
      "text/plain": [
       "       bedrooms  bathrooms  toilets  parking_space                 title  \\\n",
       "2             4          5        5              4       Detached Duplex   \n",
       "3             4          4        5              6       Detached Duplex   \n",
       "4             4          4        5              2  Semi Detached Duplex   \n",
       "6             4          5        5              4       Detached Duplex   \n",
       "8             1          1        1              1       Detached Duplex   \n",
       "...         ...        ...      ...            ...                   ...   \n",
       "24318         4          5        5              4  Semi Detached Duplex   \n",
       "24320         3          4        4              5       Detached Duplex   \n",
       "24323         4          5        5              4       Detached Duplex   \n",
       "24324         3          4        4              3        Block of Flats   \n",
       "24325         4          5        5              4       Detached Duplex   \n",
       "\n",
       "                       town  state        price  total_rooms  \n",
       "2                     Lekki  Lagos  120000000.0           18  \n",
       "3                      Ajah  Lagos   40000000.0           19  \n",
       "4                     Lekki  Lagos   75000000.0           15  \n",
       "6                     Lekki  Lagos   65000000.0           18  \n",
       "8                     Lekki  Lagos  200000000.0            4  \n",
       "...                     ...    ...          ...          ...  \n",
       "24318                 Lekki  Lagos  110000000.0           18  \n",
       "24320                 Lekki  Lagos   80000000.0           16  \n",
       "24323                 Lekki  Lagos   68000000.0           18  \n",
       "24324  Victoria Island (VI)  Lagos   78000000.0           14  \n",
       "24325                 Lekki  Lagos   65000000.0           18  \n",
       "\n",
       "[17171 rows x 9 columns]"
      ]
     },
     "execution_count": 36,
     "metadata": {},
     "output_type": "execute_result"
    }
   ],
   "source": [
    "trimmed_data"
   ]
  },
  {
   "cell_type": "code",
   "execution_count": 37,
   "id": "e3ea12bb",
   "metadata": {},
   "outputs": [
    {
     "data": {
      "text/plain": [
       "<AxesSubplot:>"
      ]
     },
     "execution_count": 37,
     "metadata": {},
     "output_type": "execute_result"
    },
    {
     "data": {
      "image/png": "[encoded data removed]",
      "text/plain": [
       "<Figure size 432x288 with 2 Axes>"
      ]
     },
     "metadata": {
      "needs_background": "light"
     },
     "output_type": "display_data"
    }
   ],
   "source": [
    "corr = trimmed_data.corr()\n",
    "sns.heatmap(corr, annot=True)"
   ]
  },
  {
   "cell_type": "code",
   "execution_count": 38,
   "id": "91ccf1f1",
   "metadata": {},
   "outputs": [
    {
     "name": "stdout",
     "output_type": "stream",
     "text": [
      "               bedrooms  bathrooms   toilets  parking_space     price  \\\n",
      "bedrooms       1.000000   0.739923  0.571015       0.145919  0.356347   \n",
      "bathrooms      0.739923   1.000000  0.642284       0.161377  0.276956   \n",
      "toilets        0.571015   0.642284  1.000000       0.234386  0.313762   \n",
      "parking_space  0.145919   0.161377  0.234386       1.000000  0.140579   \n",
      "price          0.356347   0.276956  0.313762       0.140579  1.000000   \n",
      "total_rooms    0.779405   0.813967  0.797351       0.593667  0.355218   \n",
      "\n",
      "               total_rooms  \n",
      "bedrooms          0.779405  \n",
      "bathrooms         0.813967  \n",
      "toilets           0.797351  \n",
      "parking_space     0.593667  \n",
      "price             0.355218  \n",
      "total_rooms       1.000000  \n"
     ]
    }
   ],
   "source": [
    "print(corr)"
   ]
  },
  {
   "cell_type": "code",
   "execution_count": 39,
   "id": "7d802c0e",
   "metadata": {},
   "outputs": [],
   "source": [
    "trimmed_data.drop(columns=['parking_space', 'title', 'town', 'state'], inplace = True)"
   ]
  },
  {
   "cell_type": "code",
   "execution_count": 40,
   "id": "55118419",
   "metadata": {},
   "outputs": [],
   "source": [
    "# removing outliers\n",
    "trim = q1, q9 = trimmed_data[\"price\"].quantile([0.1, 0.9])\n",
    "mask = trimmed_data[\"price\"].between(q1,q9)\n",
    "trimmed_data = trimmed_data[mask]"
   ]
  },
  {
   "cell_type": "code",
   "execution_count": 41,
   "id": "e56f8bd4",
   "metadata": {},
   "outputs": [
    {
     "data": {
      "text/html": [
       "<div>\n",
       "<style scoped>\n",
       "    .dataframe tbody tr th:only-of-type {\n",
       "        vertical-align: middle;\n",
       "    }\n",
       "\n",
       "    .dataframe tbody tr th {\n",
       "        vertical-align: top;\n",
       "    }\n",
       "\n",
       "    .dataframe thead th {\n",
       "        text-align: right;\n",
       "    }\n",
       "</style>\n",
       "<table border=\"1\" class=\"dataframe\">\n",
       "  <thead>\n",
       "    <tr style=\"text-align: right;\">\n",
       "      <th></th>\n",
       "      <th>bedrooms</th>\n",
       "      <th>bathrooms</th>\n",
       "      <th>toilets</th>\n",
       "      <th>price</th>\n",
       "      <th>total_rooms</th>\n",
       "    </tr>\n",
       "  </thead>\n",
       "  <tbody>\n",
       "    <tr>\n",
       "      <th>2</th>\n",
       "      <td>4</td>\n",
       "      <td>5</td>\n",
       "      <td>5</td>\n",
       "      <td>120000000.0</td>\n",
       "      <td>18</td>\n",
       "    </tr>\n",
       "    <tr>\n",
       "      <th>4</th>\n",
       "      <td>4</td>\n",
       "      <td>4</td>\n",
       "      <td>5</td>\n",
       "      <td>75000000.0</td>\n",
       "      <td>15</td>\n",
       "    </tr>\n",
       "    <tr>\n",
       "      <th>6</th>\n",
       "      <td>4</td>\n",
       "      <td>5</td>\n",
       "      <td>5</td>\n",
       "      <td>65000000.0</td>\n",
       "      <td>18</td>\n",
       "    </tr>\n",
       "    <tr>\n",
       "      <th>9</th>\n",
       "      <td>4</td>\n",
       "      <td>4</td>\n",
       "      <td>5</td>\n",
       "      <td>60000000.0</td>\n",
       "      <td>18</td>\n",
       "    </tr>\n",
       "    <tr>\n",
       "      <th>12</th>\n",
       "      <td>4</td>\n",
       "      <td>5</td>\n",
       "      <td>6</td>\n",
       "      <td>65000000.0</td>\n",
       "      <td>18</td>\n",
       "    </tr>\n",
       "    <tr>\n",
       "      <th>...</th>\n",
       "      <td>...</td>\n",
       "      <td>...</td>\n",
       "      <td>...</td>\n",
       "      <td>...</td>\n",
       "      <td>...</td>\n",
       "    </tr>\n",
       "    <tr>\n",
       "      <th>24318</th>\n",
       "      <td>4</td>\n",
       "      <td>5</td>\n",
       "      <td>5</td>\n",
       "      <td>110000000.0</td>\n",
       "      <td>18</td>\n",
       "    </tr>\n",
       "    <tr>\n",
       "      <th>24320</th>\n",
       "      <td>3</td>\n",
       "      <td>4</td>\n",
       "      <td>4</td>\n",
       "      <td>80000000.0</td>\n",
       "      <td>16</td>\n",
       "    </tr>\n",
       "    <tr>\n",
       "      <th>24323</th>\n",
       "      <td>4</td>\n",
       "      <td>5</td>\n",
       "      <td>5</td>\n",
       "      <td>68000000.0</td>\n",
       "      <td>18</td>\n",
       "    </tr>\n",
       "    <tr>\n",
       "      <th>24324</th>\n",
       "      <td>3</td>\n",
       "      <td>4</td>\n",
       "      <td>4</td>\n",
       "      <td>78000000.0</td>\n",
       "      <td>14</td>\n",
       "    </tr>\n",
       "    <tr>\n",
       "      <th>24325</th>\n",
       "      <td>4</td>\n",
       "      <td>5</td>\n",
       "      <td>5</td>\n",
       "      <td>65000000.0</td>\n",
       "      <td>18</td>\n",
       "    </tr>\n",
       "  </tbody>\n",
       "</table>\n",
       "<p>14178 rows × 5 columns</p>\n",
       "</div>"
      ],
      "text/plain": [
       "       bedrooms  bathrooms  toilets        price  total_rooms\n",
       "2             4          5        5  120000000.0           18\n",
       "4             4          4        5   75000000.0           15\n",
       "6             4          5        5   65000000.0           18\n",
       "9             4          4        5   60000000.0           18\n",
       "12            4          5        6   65000000.0           18\n",
       "...         ...        ...      ...          ...          ...\n",
       "24318         4          5        5  110000000.0           18\n",
       "24320         3          4        4   80000000.0           16\n",
       "24323         4          5        5   68000000.0           18\n",
       "24324         3          4        4   78000000.0           14\n",
       "24325         4          5        5   65000000.0           18\n",
       "\n",
       "[14178 rows x 5 columns]"
      ]
     },
     "execution_count": 41,
     "metadata": {},
     "output_type": "execute_result"
    }
   ],
   "source": [
    "trimmed_data"
   ]
  },
  {
   "cell_type": "code",
   "execution_count": 42,
   "id": "564617f0",
   "metadata": {},
   "outputs": [],
   "source": [
    "trimmed_data['total_rooms'] = trimmed_data['bedrooms'] + trimmed_data['bathrooms'] + trimmed_data['toilets'] "
   ]
  },
  {
   "cell_type": "code",
   "execution_count": 43,
   "id": "aa9f3280",
   "metadata": {},
   "outputs": [
    {
     "data": {
      "text/html": [
       "<div>\n",
       "<style scoped>\n",
       "    .dataframe tbody tr th:only-of-type {\n",
       "        vertical-align: middle;\n",
       "    }\n",
       "\n",
       "    .dataframe tbody tr th {\n",
       "        vertical-align: top;\n",
       "    }\n",
       "\n",
       "    .dataframe thead th {\n",
       "        text-align: right;\n",
       "    }\n",
       "</style>\n",
       "<table border=\"1\" class=\"dataframe\">\n",
       "  <thead>\n",
       "    <tr style=\"text-align: right;\">\n",
       "      <th></th>\n",
       "      <th>bedrooms</th>\n",
       "      <th>bathrooms</th>\n",
       "      <th>toilets</th>\n",
       "      <th>price</th>\n",
       "      <th>total_rooms</th>\n",
       "    </tr>\n",
       "  </thead>\n",
       "  <tbody>\n",
       "    <tr>\n",
       "      <th>2</th>\n",
       "      <td>4</td>\n",
       "      <td>5</td>\n",
       "      <td>5</td>\n",
       "      <td>120000000.0</td>\n",
       "      <td>14</td>\n",
       "    </tr>\n",
       "    <tr>\n",
       "      <th>4</th>\n",
       "      <td>4</td>\n",
       "      <td>4</td>\n",
       "      <td>5</td>\n",
       "      <td>75000000.0</td>\n",
       "      <td>13</td>\n",
       "    </tr>\n",
       "    <tr>\n",
       "      <th>6</th>\n",
       "      <td>4</td>\n",
       "      <td>5</td>\n",
       "      <td>5</td>\n",
       "      <td>65000000.0</td>\n",
       "      <td>14</td>\n",
       "    </tr>\n",
       "    <tr>\n",
       "      <th>9</th>\n",
       "      <td>4</td>\n",
       "      <td>4</td>\n",
       "      <td>5</td>\n",
       "      <td>60000000.0</td>\n",
       "      <td>13</td>\n",
       "    </tr>\n",
       "    <tr>\n",
       "      <th>12</th>\n",
       "      <td>4</td>\n",
       "      <td>5</td>\n",
       "      <td>6</td>\n",
       "      <td>65000000.0</td>\n",
       "      <td>15</td>\n",
       "    </tr>\n",
       "    <tr>\n",
       "      <th>...</th>\n",
       "      <td>...</td>\n",
       "      <td>...</td>\n",
       "      <td>...</td>\n",
       "      <td>...</td>\n",
       "      <td>...</td>\n",
       "    </tr>\n",
       "    <tr>\n",
       "      <th>24318</th>\n",
       "      <td>4</td>\n",
       "      <td>5</td>\n",
       "      <td>5</td>\n",
       "      <td>110000000.0</td>\n",
       "      <td>14</td>\n",
       "    </tr>\n",
       "    <tr>\n",
       "      <th>24320</th>\n",
       "      <td>3</td>\n",
       "      <td>4</td>\n",
       "      <td>4</td>\n",
       "      <td>80000000.0</td>\n",
       "      <td>11</td>\n",
       "    </tr>\n",
       "    <tr>\n",
       "      <th>24323</th>\n",
       "      <td>4</td>\n",
       "      <td>5</td>\n",
       "      <td>5</td>\n",
       "      <td>68000000.0</td>\n",
       "      <td>14</td>\n",
       "    </tr>\n",
       "    <tr>\n",
       "      <th>24324</th>\n",
       "      <td>3</td>\n",
       "      <td>4</td>\n",
       "      <td>4</td>\n",
       "      <td>78000000.0</td>\n",
       "      <td>11</td>\n",
       "    </tr>\n",
       "    <tr>\n",
       "      <th>24325</th>\n",
       "      <td>4</td>\n",
       "      <td>5</td>\n",
       "      <td>5</td>\n",
       "      <td>65000000.0</td>\n",
       "      <td>14</td>\n",
       "    </tr>\n",
       "  </tbody>\n",
       "</table>\n",
       "<p>14178 rows × 5 columns</p>\n",
       "</div>"
      ],
      "text/plain": [
       "       bedrooms  bathrooms  toilets        price  total_rooms\n",
       "2             4          5        5  120000000.0           14\n",
       "4             4          4        5   75000000.0           13\n",
       "6             4          5        5   65000000.0           14\n",
       "9             4          4        5   60000000.0           13\n",
       "12            4          5        6   65000000.0           15\n",
       "...         ...        ...      ...          ...          ...\n",
       "24318         4          5        5  110000000.0           14\n",
       "24320         3          4        4   80000000.0           11\n",
       "24323         4          5        5   68000000.0           14\n",
       "24324         3          4        4   78000000.0           11\n",
       "24325         4          5        5   65000000.0           14\n",
       "\n",
       "[14178 rows x 5 columns]"
      ]
     },
     "execution_count": 43,
     "metadata": {},
     "output_type": "execute_result"
    }
   ],
   "source": [
    "trimmed_data"
   ]
  },
  {
   "cell_type": "code",
   "execution_count": 44,
   "id": "51ebccd2",
   "metadata": {},
   "outputs": [
    {
     "name": "stdout",
     "output_type": "stream",
     "text": [
      "<class 'pandas.core.frame.DataFrame'>\n",
      "Int64Index: 14178 entries, 2 to 24325\n",
      "Data columns (total 5 columns):\n",
      " #   Column       Non-Null Count  Dtype  \n",
      "---  ------       --------------  -----  \n",
      " 0   bedrooms     14178 non-null  int64  \n",
      " 1   bathrooms    14178 non-null  int64  \n",
      " 2   toilets      14178 non-null  int64  \n",
      " 3   price        14178 non-null  float64\n",
      " 4   total_rooms  14178 non-null  int64  \n",
      "dtypes: float64(1), int64(4)\n",
      "memory usage: 664.6 KB\n"
     ]
    }
   ],
   "source": [
    "trimmed_data.info()"
   ]
  },
  {
   "cell_type": "code",
   "execution_count": 45,
   "id": "d5860749",
   "metadata": {},
   "outputs": [
    {
     "data": {
      "text/html": [
       "<div>\n",
       "<style scoped>\n",
       "    .dataframe tbody tr th:only-of-type {\n",
       "        vertical-align: middle;\n",
       "    }\n",
       "\n",
       "    .dataframe tbody tr th {\n",
       "        vertical-align: top;\n",
       "    }\n",
       "\n",
       "    .dataframe thead th {\n",
       "        text-align: right;\n",
       "    }\n",
       "</style>\n",
       "<table border=\"1\" class=\"dataframe\">\n",
       "  <thead>\n",
       "    <tr style=\"text-align: right;\">\n",
       "      <th></th>\n",
       "      <th>bedrooms</th>\n",
       "      <th>bathrooms</th>\n",
       "      <th>toilets</th>\n",
       "      <th>price</th>\n",
       "      <th>total_rooms</th>\n",
       "    </tr>\n",
       "  </thead>\n",
       "  <tbody>\n",
       "    <tr>\n",
       "      <th>count</th>\n",
       "      <td>14178.000000</td>\n",
       "      <td>14178.000000</td>\n",
       "      <td>14178.000000</td>\n",
       "      <td>1.417800e+04</td>\n",
       "      <td>14178.000000</td>\n",
       "    </tr>\n",
       "    <tr>\n",
       "      <th>mean</th>\n",
       "      <td>4.434758</td>\n",
       "      <td>4.695444</td>\n",
       "      <td>5.322471</td>\n",
       "      <td>9.507124e+07</td>\n",
       "      <td>14.452673</td>\n",
       "    </tr>\n",
       "    <tr>\n",
       "      <th>std</th>\n",
       "      <td>0.864044</td>\n",
       "      <td>0.938578</td>\n",
       "      <td>0.954035</td>\n",
       "      <td>3.670868e+07</td>\n",
       "      <td>2.379890</td>\n",
       "    </tr>\n",
       "    <tr>\n",
       "      <th>min</th>\n",
       "      <td>1.000000</td>\n",
       "      <td>1.000000</td>\n",
       "      <td>1.000000</td>\n",
       "      <td>4.500000e+07</td>\n",
       "      <td>3.000000</td>\n",
       "    </tr>\n",
       "    <tr>\n",
       "      <th>25%</th>\n",
       "      <td>4.000000</td>\n",
       "      <td>4.000000</td>\n",
       "      <td>5.000000</td>\n",
       "      <td>6.500000e+07</td>\n",
       "      <td>13.000000</td>\n",
       "    </tr>\n",
       "    <tr>\n",
       "      <th>50%</th>\n",
       "      <td>4.000000</td>\n",
       "      <td>5.000000</td>\n",
       "      <td>5.000000</td>\n",
       "      <td>8.500000e+07</td>\n",
       "      <td>14.000000</td>\n",
       "    </tr>\n",
       "    <tr>\n",
       "      <th>75%</th>\n",
       "      <td>5.000000</td>\n",
       "      <td>5.000000</td>\n",
       "      <td>6.000000</td>\n",
       "      <td>1.250000e+08</td>\n",
       "      <td>16.000000</td>\n",
       "    </tr>\n",
       "    <tr>\n",
       "      <th>max</th>\n",
       "      <td>9.000000</td>\n",
       "      <td>9.000000</td>\n",
       "      <td>9.000000</td>\n",
       "      <td>1.800000e+08</td>\n",
       "      <td>27.000000</td>\n",
       "    </tr>\n",
       "  </tbody>\n",
       "</table>\n",
       "</div>"
      ],
      "text/plain": [
       "           bedrooms     bathrooms       toilets         price   total_rooms\n",
       "count  14178.000000  14178.000000  14178.000000  1.417800e+04  14178.000000\n",
       "mean       4.434758      4.695444      5.322471  9.507124e+07     14.452673\n",
       "std        0.864044      0.938578      0.954035  3.670868e+07      2.379890\n",
       "min        1.000000      1.000000      1.000000  4.500000e+07      3.000000\n",
       "25%        4.000000      4.000000      5.000000  6.500000e+07     13.000000\n",
       "50%        4.000000      5.000000      5.000000  8.500000e+07     14.000000\n",
       "75%        5.000000      5.000000      6.000000  1.250000e+08     16.000000\n",
       "max        9.000000      9.000000      9.000000  1.800000e+08     27.000000"
      ]
     },
     "execution_count": 45,
     "metadata": {},
     "output_type": "execute_result"
    }
   ],
   "source": [
    "trimmed_data.describe()"
   ]
  },
  {
   "cell_type": "markdown",
   "id": "ffdab383",
   "metadata": {},
   "source": [
    "### Model Selection and Building"
   ]
  },
  {
   "cell_type": "code",
   "execution_count": 46,
   "id": "cc3ce0e4",
   "metadata": {},
   "outputs": [
    {
     "name": "stdout",
     "output_type": "stream",
     "text": [
      "Linear Regression: \n",
      "  Mean Squared Error: 1174665373980418.2500\n",
      "  R2 Score: 0.1413\n",
      "Ridge Regression: \n",
      "  Mean Squared Error: 1175056200735318.0000\n",
      "  R2 Score: 0.1410\n",
      "Lasso Regression: \n",
      "  Mean Squared Error: 1175051652488379.5000\n",
      "  R2 Score: 0.1410\n",
      "Elastic Net Regression: \n",
      "  Mean Squared Error: 1193618489263355.2500\n",
      "  R2 Score: 0.1274\n",
      "Decision Tree Regression: \n",
      "  Mean Squared Error: 1076993542373403.5000\n",
      "  R2 Score: 0.2127\n",
      "Random Forest Regression: \n",
      "  Mean Squared Error: 1072724657001764.1250\n",
      "  R2 Score: 0.2158\n",
      "Gradient Boosting Regression: \n",
      "  Mean Squared Error: 1066885017540497.8750\n",
      "  R2 Score: 0.2201\n",
      "SVR: \n",
      "  Mean Squared Error: 1479370505583103.7500\n",
      "  R2 Score: -0.0814\n",
      "KNN Regression: \n",
      "  Mean Squared Error: 1318526250084937.7500\n",
      "  R2 Score: 0.0361\n"
     ]
    }
   ],
   "source": [
    "X = trimmed_data.drop('price', axis = 1)\n",
    "y = trimmed_data['price']\n",
    "\n",
    "X_train, X_test, y_train, y_test = train_test_split(X, y, test_size = 0.2, random_state = 42)\n",
    "\n",
    "models = {\n",
    "    'Linear Regression': LinearRegression(),\n",
    "    'Ridge Regression': Ridge(),\n",
    "    'Lasso Regression': Lasso(),\n",
    "    'Elastic Net Regression': ElasticNet(),\n",
    "    'Decision Tree Regression': DecisionTreeRegressor(),\n",
    "    'Random Forest Regression': RandomForestRegressor(),\n",
    "    'Gradient Boosting Regression': GradientBoostingRegressor(),\n",
    "    'SVR': SVR(),\n",
    "    'KNN Regression': KNeighborsRegressor()\n",
    "}\n",
    "\n",
    "for name, model in models.items():\n",
    "    model.fit(X_train, y_train)\n",
    "    y_pred = model.predict(X_test)\n",
    "    mse = mean_squared_error(y_test, y_pred)\n",
    "    r2 = r2_score(y_test, y_pred)\n",
    "    print(f\"{name}: \")\n",
    "    print(f\"  Mean Squared Error: {mse:.4f}\")\n",
    "    print(f\"  R2 Score: {r2:.4f}\")"
   ]
  },
  {
   "cell_type": "code",
   "execution_count": 47,
   "id": "619ceff9",
   "metadata": {},
   "outputs": [
    {
     "name": "stdout",
     "output_type": "stream",
     "text": [
      "Mean price: 94950130.76697232\n",
      "Baseline MSE: 1342225635426989.5\n"
     ]
    }
   ],
   "source": [
    "y_mean = y_train.mean()\n",
    "y_pred_baseline = [y_mean]*len(y_train)\n",
    "print(\"Mean price:\", y_mean)\n",
    "print(\"Baseline MSE:\", mean_squared_error(y_train, y_pred_baseline))"
   ]
  },
  {
   "cell_type": "markdown",
   "id": "2df7711f",
   "metadata": {},
   "source": [
    "The best model here is Gradient Boosting Regressor which has the lowest MSE, this means that it is making predictions that are closer to the actual values on average compared to other models, and it has the highest R2 score which means that it is explaining the variance in the data better than other models"
   ]
  },
  {
   "cell_type": "markdown",
   "id": "073d933d",
   "metadata": {},
   "source": [
    "### Hyperparameter Tuning\n",
    "\n",
    "GridSearchCV"
   ]
  },
  {
   "cell_type": "code",
   "execution_count": 48,
   "id": "c492b48b",
   "metadata": {},
   "outputs": [
    {
     "data": {
      "text/plain": [
       "GridSearchCV(cv=5, estimator=GradientBoostingRegressor(), n_jobs=-1,\n",
       "             param_grid={'learning_rate': [0.1, 0.2, 0.3],\n",
       "                         'max_depth': [2, 3, 4], 'min_samples_leaf': [1, 2, 3],\n",
       "                         'min_samples_split': [2, 3, 4],\n",
       "                         'n_estimators': [150, 100, 200]})"
      ]
     },
     "execution_count": 48,
     "metadata": {},
     "output_type": "execute_result"
    }
   ],
   "source": [
    "gbr = GradientBoostingRegressor()\n",
    "\n",
    "param_grid = {\n",
    "    'n_estimators': [150, 100, 200],\n",
    "    'learning_rate': [0.1, 0.2, 0.3],\n",
    "    'max_depth': [2, 3, 4],\n",
    "    'min_samples_split' : [2, 3, 4],\n",
    "    'min_samples_leaf' : [1, 2, 3]\n",
    "}\n",
    "\n",
    "grid_search = GridSearchCV(estimator = gbr, param_grid = param_grid, cv = 5, n_jobs = -1)\n",
    "\n",
    "grid_search.fit(X_train, y_train)"
   ]
  },
  {
   "cell_type": "code",
   "execution_count": 49,
   "id": "b8ae7934",
   "metadata": {},
   "outputs": [
    {
     "name": "stdout",
     "output_type": "stream",
     "text": [
      "Best Hyperparameter:  {'learning_rate': 0.1, 'max_depth': 2, 'min_samples_leaf': 3, 'min_samples_split': 3, 'n_estimators': 100}\n"
     ]
    }
   ],
   "source": [
    "best_params = grid_search.best_params_\n",
    "print(\"Best Hyperparameter: \", best_params)"
   ]
  },
  {
   "cell_type": "code",
   "execution_count": 50,
   "id": "82892286",
   "metadata": {},
   "outputs": [
    {
     "data": {
      "text/plain": [
       "GradientBoostingRegressor(max_depth=2, min_samples_leaf=3, min_samples_split=3)"
      ]
     },
     "execution_count": 50,
     "metadata": {},
     "output_type": "execute_result"
    }
   ],
   "source": [
    "best_grid = grid_search.best_estimator_\n",
    "best_grid"
   ]
  },
  {
   "cell_type": "markdown",
   "id": "bf1e3675",
   "metadata": {},
   "source": [
    "Testing the best model on the dataset"
   ]
  },
  {
   "cell_type": "code",
   "execution_count": 51,
   "id": "d0f58661",
   "metadata": {},
   "outputs": [
    {
     "name": "stdout",
     "output_type": "stream",
     "text": [
      "  Mean Squared Error: 1066996973910721.8750\n",
      "  R2 Score: 0.2200\n"
     ]
    }
   ],
   "source": [
    "y_pred = best_grid.predict(X_test)\n",
    "\n",
    "mse = mean_squared_error(y_test, y_pred)\n",
    "r2 = r2_score(y_test, y_pred)\n",
    "print(f\"  Mean Squared Error: {mse:.4f}\")\n",
    "print(f\"  R2 Score: {r2:.4f}\")"
   ]
  },
  {
   "cell_type": "markdown",
   "id": "f56d6528",
   "metadata": {},
   "source": [
    "RandomSearchCV"
   ]
  },
  {
   "cell_type": "code",
   "execution_count": 52,
   "id": "31d63446",
   "metadata": {},
   "outputs": [
    {
     "data": {
      "text/plain": [
       "RandomizedSearchCV(cv=5, estimator=GradientBoostingRegressor(), n_iter=100,\n",
       "                   n_jobs=-1,\n",
       "                   param_distributions={'learning_rate': [0.01, 0.1, 0.2],\n",
       "                                        'max_depth': [3, 4, 5],\n",
       "                                        'max_features': ['sqrt', 'log2'],\n",
       "                                        'min_samples_leaf': [1, 2, 4],\n",
       "                                        'min_samples_split': [2, 5, 10],\n",
       "                                        'n_estimators': [100, 200, 300],\n",
       "                                        'subsample': [0.8, 0.9, 1.0]})"
      ]
     },
     "execution_count": 52,
     "metadata": {},
     "output_type": "execute_result"
    }
   ],
   "source": [
    "param_distributions = {\n",
    "    'n_estimators': [100, 200, 300],\n",
    "    'learning_rate': [0.01, 0.1, 0.2],\n",
    "    'max_depth': [3, 4, 5],\n",
    "    'min_samples_split': [2, 5, 10],\n",
    "    'min_samples_leaf': [1, 2, 4],\n",
    "    'subsample': [0.8, 0.9, 1.0],\n",
    "    'max_features': ['sqrt', 'log2']\n",
    "    # Add other hyperparameters to explore\n",
    "}\n",
    "\n",
    "random_search = RandomizedSearchCV(gbr, param_distributions, n_iter=100, cv = 5, n_jobs = -1)\n",
    "\n",
    "random_search.fit(X_train, y_train)\n"
   ]
  },
  {
   "cell_type": "code",
   "execution_count": 55,
   "id": "abc337ea",
   "metadata": {},
   "outputs": [
    {
     "name": "stdout",
     "output_type": "stream",
     "text": [
      "Best Hyperparameters: {'subsample': 0.8, 'n_estimators': 300, 'min_samples_split': 5, 'min_samples_leaf': 4, 'max_features': 'log2', 'max_depth': 4, 'learning_rate': 0.01}\n"
     ]
    }
   ],
   "source": [
    "best_params_randCV = random_search.best_params_\n",
    "print(\"Best Hyperparameters:\", best_params_randCV)"
   ]
  },
  {
   "cell_type": "code",
   "execution_count": 56,
   "id": "216c9437",
   "metadata": {},
   "outputs": [
    {
     "data": {
      "text/plain": [
       "GradientBoostingRegressor(learning_rate=0.01, max_depth=4, max_features='log2',\n",
       "                          min_samples_leaf=4, min_samples_split=5,\n",
       "                          n_estimators=300, subsample=0.8)"
      ]
     },
     "execution_count": 56,
     "metadata": {},
     "output_type": "execute_result"
    }
   ],
   "source": [
    "best_grid_randCV = random_search.best_estimator_\n",
    "best_grid_randCV"
   ]
  },
  {
   "cell_type": "code",
   "execution_count": 57,
   "id": "65b8b1a6",
   "metadata": {},
   "outputs": [
    {
     "name": "stdout",
     "output_type": "stream",
     "text": [
      "  Mean Squared Error: 1067898254927092.7500\n",
      "  R2 Score: 0.2193\n"
     ]
    }
   ],
   "source": [
    "y_pred = best_grid_randCV.predict(X_test)\n",
    "\n",
    "mse = mean_squared_error(y_test, y_pred)\n",
    "r2 = r2_score(y_test, y_pred)\n",
    "print(f\"  Mean Squared Error: {mse:.4f}\")\n",
    "print(f\"  R2 Score: {r2:.4f}\")"
   ]
  },
  {
   "cell_type": "markdown",
   "id": "b2f035ba",
   "metadata": {},
   "source": [
    "We will be going with the RandomSearch Parameters, its kind of tricky the BaseLine model sets the standard and all the models did well, but GradientBoostRegressor was the best and then tuning the hyperparameters a little bit\n",
    "\n",
    "It seems as thought the hyperparameters gave us a little higher MSE and a little lower r2score, just to avoid overfitting it would be accepted"
   ]
  },
  {
   "cell_type": "code",
   "execution_count": 68,
   "id": "81ca2eb5",
   "metadata": {},
   "outputs": [],
   "source": [
    "# testing the model\n",
    "\n",
    "def make_prediction(bedrooms, bathrooms, toilets, total_rooms):\n",
    "\n",
    "    data = {\"bedrooms\":bedrooms,\n",
    "            \"bathrooms\":bathrooms,\n",
    "            \"toilets\":toilets,\n",
    "            \"total_rooms\":total_rooms\n",
    "    }\n",
    "    \n",
    "    df = pd.DataFrame(data, index=[0])\n",
    "    prediction = best_grid_randCV.predict(df)\n",
    "    return f\"Predicted apartment price: ₦{prediction}\""
   ]
  },
  {
   "cell_type": "code",
   "execution_count": 70,
   "id": "27a47a26",
   "metadata": {},
   "outputs": [
    {
     "data": {
      "text/plain": [
       "'Predicted apartment price: ₦[78228416.36125213]'"
      ]
     },
     "execution_count": 70,
     "metadata": {},
     "output_type": "execute_result"
    }
   ],
   "source": [
    "# testing \n",
    "make_prediction(bedrooms = 3, bathrooms = 4,toilets = 6, total_rooms = 13)"
   ]
  },
  {
   "cell_type": "code",
   "execution_count": 65,
   "id": "aa4dc7be",
   "metadata": {},
   "outputs": [
    {
     "data": {
      "application/vnd.jupyter.widget-view+json": {
       "model_id": "cd19a2f016c046cb8e8161bf698a3d10",
       "version_major": 2,
       "version_minor": 0
      },
      "text/plain": [
       "interactive(children=(IntSlider(value=4, description='bedrooms', max=9, min=1), IntSlider(value=4, description…"
      ]
     },
     "metadata": {},
     "output_type": "display_data"
    }
   ],
   "source": [
    "custom_font_style = {\n",
    "    'font-family': 'Arial',   \n",
    "    'font-size': '20px'      \n",
    "}\n",
    "\n",
    "interact(\n",
    "    make_prediction,    \n",
    "    bedrooms=IntSlider(\n",
    "        min=X_train[\"bedrooms\"].min(),\n",
    "        max=X_train[\"bedrooms\"].max(),\n",
    "        value=X_train[\"bedrooms\"].mean(),\n",
    "        style=custom_font_style\n",
    "    ),\n",
    "    bathrooms=IntSlider(\n",
    "        min=X_train[\"bathrooms\"].min(),\n",
    "        max=X_train[\"bathrooms\"].max(),\n",
    "        step=1,\n",
    "        value=X_train[\"bathrooms\"].mean(),\n",
    "        style=custom_font_style\n",
    "    ),\n",
    "    toilets=IntSlider(\n",
    "        min=X_train[\"toilets\"].min(),\n",
    "        max=X_train[\"toilets\"].max(),\n",
    "        step=1,\n",
    "        value=X_train[\"toilets\"].mean(),\n",
    "        style=custom_font_style\n",
    "    ),\n",
    "    total_rooms=IntSlider(\n",
    "        min=X_train[\"total_rooms\"].min(),\n",
    "        max=X_train[\"total_rooms\"].max(),\n",
    "        step=1,\n",
    "        value=X_train[\"total_rooms\"].mean(),\n",
    "        style=custom_font_style\n",
    "    )\n",
    "    \n",
    ");"
   ]
  },
  {
   "cell_type": "code",
   "execution_count": null,
   "id": "281ec76b",
   "metadata": {},
   "outputs": [],
   "source": []
  }
 ],
 "metadata": {
  "kernelspec": {
   "display_name": "Python 3",
   "language": "python",
   "name": "python3"
  },
  "language_info": {
   "codemirror_mode": {
    "name": "ipython",
    "version": 3
   },
   "file_extension": ".py",
   "mimetype": "text/x-python",
   "name": "python",
   "nbconvert_exporter": "python",
   "pygments_lexer": "ipython3",
   "version": "3.8.8"
  }
 },
 "nbformat": 4,
 "nbformat_minor": 5
}
